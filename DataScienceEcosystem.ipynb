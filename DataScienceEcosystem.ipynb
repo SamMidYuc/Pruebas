{
 "cells": [
  {
   "cell_type": "markdown",
   "id": "356310aa-22b9-4494-a5f6-e52fb5a9d4b5",
   "metadata": {},
   "source": [
    "# Data Science Tools and Ecosystems"
   ]
  },
  {
   "cell_type": "raw",
   "id": "ae9dde11-a790-4ab9-aec2-83d6a7a0912a",
   "metadata": {},
   "source": [
    "In this Notebook, Data Science Tools and Ecosystems are summarized."
   ]
  },
  {
   "cell_type": "markdown",
   "id": "65f62f7b-2e40-473f-89c9-44994b8a0742",
   "metadata": {},
   "source": [
    "**Objectives:**"
   ]
  },
  {
   "cell_type": "markdown",
   "id": "563563e2-5148-4940-af84-13bb1622ca1a",
   "metadata": {},
   "source": [
    "- List popular languages for Data Science\n",
    "- List popular libraries for Data Science\n",
    "- How to create a table\n",
    "- How to create a code cell and add arithmetic expressions\n",
    "- How to create a markdown cell and enter text\n",
    "- How to create a heading"
   ]
  },
  {
   "cell_type": "markdown",
   "id": "90b5ab64-6131-41e2-bf1b-97cd67b759a9",
   "metadata": {},
   "source": [
    "Some of the popular languages that Data Scientists are:\n",
    "1. Python\n",
    "2. Julia\n",
    "3. Java\n",
    "4. R\n",
    "5. SQL\n",
    "6. Scala"
   ]
  },
  {
   "cell_type": "markdown",
   "id": "9705c310-22f7-402b-9b48-99db765b4c01",
   "metadata": {},
   "source": [
    "Some of the commomly used libraries used by Data Scientists include:\n",
    "1. Matplotlib\n",
    "2. Pandas\n",
    "3. NumPy\n",
    "4. Keras\n",
    "5. Seaborn"
   ]
  },
  {
   "cell_type": "markdown",
   "id": "10d93f5d-5744-42e9-a8f4-7cf66b92aeb9",
   "metadata": {},
   "source": [
    "| Data Science Tools |\n",
    "|--------------------|\n",
    "| RStudio            |\n",
    "| Spyder             |\n",
    "| Anaconda Navigator |\n",
    "| MS Studio          |\n"
   ]
  },
  {
   "cell_type": "markdown",
   "id": "10b4213a-f8f3-4d72-b89b-5d250c068cf2",
   "metadata": {},
   "source": [
    "### Below are a few examples of evaluating arithmetic expressions in Python"
   ]
  },
  {
   "cell_type": "code",
   "execution_count": 1,
   "id": "599e1d41-ade0-4169-a730-b6bcd2cf00c0",
   "metadata": {},
   "outputs": [
    {
     "data": {
      "text/plain": [
       "17"
      ]
     },
     "execution_count": 1,
     "metadata": {},
     "output_type": "execute_result"
    }
   ],
   "source": [
    "# This a simple arithmetic expression to multiply then add integers\n",
    "\n",
    "(3*4)+5"
   ]
  },
  {
   "cell_type": "code",
   "execution_count": 3,
   "id": "5202cf83-d1a1-42be-91b5-7ee7ddaf333c",
   "metadata": {},
   "outputs": [
    {
     "data": {
      "text/plain": [
       "3.3333333333333335"
      ]
     },
     "execution_count": 3,
     "metadata": {},
     "output_type": "execute_result"
    }
   ],
   "source": [
    "# This will convert 200 minutes to hours by diving by 60\n",
    "\n",
    "200/60"
   ]
  },
  {
   "cell_type": "markdown",
   "id": "0f997fdd-340f-4d15-bdb0-48bce9a86d4d",
   "metadata": {},
   "source": [
    "## Author\n",
    "\n",
    "Santiago Manuel Pérez Dominguez"
   ]
  }
 ],
 "metadata": {
  "kernelspec": {
   "display_name": "Python 3 (ipykernel)",
   "language": "python",
   "name": "python3"
  },
  "language_info": {
   "codemirror_mode": {
    "name": "ipython",
    "version": 3
   },
   "file_extension": ".py",
   "mimetype": "text/x-python",
   "name": "python",
   "nbconvert_exporter": "python",
   "pygments_lexer": "ipython3",
   "version": "3.12.4"
  }
 },
 "nbformat": 4,
 "nbformat_minor": 5
}
